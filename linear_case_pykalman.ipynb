{
 "cells": [
  {
   "cell_type": "code",
   "execution_count": 1,
   "id": "34d925bb",
   "metadata": {},
   "outputs": [],
   "source": [
    "%load_ext pycodestyle_magic"
   ]
  },
  {
   "cell_type": "code",
   "execution_count": 2,
   "id": "fd125859",
   "metadata": {},
   "outputs": [],
   "source": [
    "import pandas as pd\n",
    "import numpy as np\n",
    "import warnings\n",
    "with warnings.catch_warnings():\n",
    "    warnings.filterwarnings(\"ignore\", category=DeprecationWarning)\n",
    "    import pykalman"
   ]
  },
  {
   "cell_type": "code",
   "execution_count": 3,
   "id": "cc4c05f5",
   "metadata": {},
   "outputs": [],
   "source": [
    "%%pycodestyle\n",
    "print(\"pykalman verison:\")\n",
    "try:\n",
    "    from importlib import metadata\n",
    "except ImportError:\n",
    "    import importlib_metadata as metadata\n",
    "\n",
    "try:\n",
    "    print(metadata.version(\"pykalman\"))\n",
    "except Exception:\n",
    "    print(\"unknown\")"
   ]
  },
  {
   "cell_type": "markdown",
   "id": "2691aa4a",
   "metadata": {},
   "source": [
    "We load some vertical positon data of a guy running in the mountains."
   ]
  },
  {
   "cell_type": "code",
   "execution_count": 4,
   "id": "610ae210",
   "metadata": {},
   "outputs": [
    {
     "name": "stderr",
     "output_type": "stream",
     "text": [
      "4:80: E501 line too long (106 > 79 characters)\n",
      "11:1: W391 blank line at end of file\n"
     ]
    }
   ],
   "source": [
    "%%pycodestyle\n",
    "def load_df(fname):\n",
    "    \"\"\"Load the dataFrame.\"\"\"\n",
    "    df = pd.read_csv(fname, na_values=[''], sep=';', encoding=\"utf-8\", names=[\"Time (s)\", \"Position (m)\"])\n",
    "    return df\n",
    "\n",
    "\n",
    "# import the data for the kalman filtering\n",
    "fname = 'kalman_data.csv'\n",
    "df = load_df(fname)"
   ]
  },
  {
   "cell_type": "markdown",
   "id": "b19837a8",
   "metadata": {},
   "source": [
    "Let's see what the data looks like"
   ]
  },
  {
   "cell_type": "code",
   "execution_count": 5,
   "id": "edf1fd56",
   "metadata": {},
   "outputs": [
    {
     "ename": "NameError",
     "evalue": "name 'df' is not defined",
     "output_type": "error",
     "traceback": [
      "Traceback \u001b[0;36m(most recent call last)\u001b[0m:\n",
      "\u001b[0;36m  File \u001b[0;32m\"<ipython-input-5-00cf07b74dcd>\"\u001b[0;36m, line \u001b[0;32m1\u001b[0;36m, in \u001b[0;35m<module>\u001b[0;36m\u001b[0m\n\u001b[0;31m    df\u001b[0m\n",
      "\u001b[0;31mNameError\u001b[0m\u001b[0;31m:\u001b[0m name 'df' is not defined\n"
     ]
    }
   ],
   "source": [
    "df"
   ]
  },
  {
   "cell_type": "markdown",
   "id": "6026933e",
   "metadata": {},
   "source": [
    "# Model\n",
    "\n",
    "Simple linear model taking into account the speed and the acceleration."
   ]
  },
  {
   "cell_type": "code",
   "execution_count": null,
   "id": "e94a276c",
   "metadata": {},
   "outputs": [],
   "source": [
    "def set_velocity_model(df):\n",
    "\n",
    "    # get the time step\n",
    "    dt = df.index[1] - df.index[0]\n",
    "\n",
    "    # transition_matrix\n",
    "    F = [[1,  dt,   0.5*dt*dt],\n",
    "         [0,   1,          dt],\n",
    "         [0,   0,           1]]\n",
    "\n",
    "    # observation_matrix\n",
    "    H = [1, 0, 0]\n",
    "\n",
    "    # transition_covariance\n",
    "    Q = [[   1,     0,     0],\n",
    "         [   0,  1e-4,     0],\n",
    "         [   0,     0,  1e-6]]\n",
    "\n",
    "    # observation_covariance\n",
    "    R = [0.04] # max error = 0.6m\n",
    "\n",
    "    # initial_state_mean\n",
    "    X0 = [0, 0, 0]\n",
    "\n",
    "    # initial_state_covariance\n",
    "    P0 = [[ 10,    0,   0],\n",
    "          [  0,    1,   0],\n",
    "          [  0,    0,   1]]\n",
    "\n",
    "    n_timesteps = df.shape[0]\n",
    "    n_dim_state = 3\n",
    "    n_dim_obs = 1\n",
    "\n",
    "    return df, F, H, Q, R,X0, P0, n_timesteps, n_dim_state, n_dim_obs\n",
    "\n",
    "\n",
    "def handle_velocity_model(df, key, smoothing=False):\n",
    "\n",
    "    df, F, H, Q, R,X0, P0, n_timesteps, n_dim_state, n_dim_obs = set_velocity_model(df)\n",
    "   \n",
    "    kf = pykalman.KalmanFilter(\n",
    "        transition_matrices=F,\n",
    "        observation_matrices=H,\n",
    "        transition_covariance=Q,\n",
    "        observation_covariance=R,\n",
    "        initial_state_mean=X0,\n",
    "        initial_state_covariance=P0,\n",
    "        n_dim_obs=n_dim_obs,\n",
    "        n_dim_state=n_dim_state\n",
    "    )\n",
    "\n",
    "\n",
    "    # Masking invalid values\n",
    "    input_values = np.ma.masked_invalid(df[key].values)\n",
    "    \n",
    "    if smoothing:\n",
    "        #We take the smoothed_state wich considers both sides\n",
    "        state_means, state_covariances = kf.smooth(input_values)\n",
    "    else:\n",
    "        # estimate hidden state\n",
    "        state_means, state_covariances = kf.filter(input_values)\n",
    "\n",
    "    \"\"\"\n",
    "    state_means is a ndarray of vector. Each vector corresponds to a timestep\n",
    "    and has 3 elements. position, speed, acceleration\n",
    "    In order to obtain three columns, a transposition is needed\n",
    "\n",
    "    state_covariances is a ndarray of dim (n * 3 * 3). The variances are in the\n",
    "    diagonal [:,0,0] [:,1,1], [:,2,2]\n",
    "    \"\"\"\n",
    "\n",
    "    # transpose the state mean\n",
    "    state_means = state_means.transpose()\n",
    "\n",
    "    df['position_filtered'] = state_means[0]\n",
    "    df['velocity_filtered'] = state_means[1]\n",
    "    df['acceleration_filtered'] = state_means[2]\n",
    "\n",
    "    df['position_std'] = np.sqrt(state_covariances[:,0,0])\n",
    "    df['velocity_std'] = np.sqrt(state_covariances[:,1,1])\n",
    "    df['acceleration_std'] = np.sqrt(state_covariances[:,2,2])\n",
    "\n",
    "    return df"
   ]
  },
  {
   "cell_type": "markdown",
   "id": "a7ca2651",
   "metadata": {},
   "source": [
    "Define a function to splot the result of Kalman filtering."
   ]
  },
  {
   "cell_type": "code",
   "execution_count": null,
   "id": "082cdee6",
   "metadata": {},
   "outputs": [],
   "source": [
    "import matplotlib.pyplot as plt\n",
    "def plot_kalman_filter(df, key, key_std, title):\n",
    "\n",
    "    #New figure\n",
    "    fig = plt.figure(figsize = (10,6), dpi=96,\n",
    "                     facecolor='w', edgecolor='k')\n",
    "\n",
    "    #Setting the subpolots\n",
    "    gs = fig.add_gridspec(1,1)\n",
    "    ax = fig.add_subplot(gs[0 ,0])\n",
    "\n",
    "    # Plot the points without outliers\n",
    "    ax.plot(df[key], \"g-\", label=\"Filtered position\")\n",
    "\n",
    "    ax.plot(df[key] + df[key_std], \"r--\", label=\"+sigma\")\n",
    "\n",
    "    ax.plot(df[key] - df[key_std], \"r--\", label=\"-sigma\")\n",
    "\n",
    "    ax.grid()\n",
    "    ax.legend(loc=\"upper left\")\n",
    "    ax.set_xlabel(\"Time (s)\")\n",
    "    ax.set_ylabel(\"Position (m)\")\n",
    "\n",
    "    plt.show\n",
    "    # fig.savefig(fname=title + '.png', dpi=300, format='png')"
   ]
  },
  {
   "cell_type": "code",
   "execution_count": null,
   "id": "b818e7e9",
   "metadata": {},
   "outputs": [],
   "source": []
  },
  {
   "cell_type": "markdown",
   "id": "49923430",
   "metadata": {},
   "source": [
    "# Case 1: no missing values"
   ]
  },
  {
   "cell_type": "code",
   "execution_count": null,
   "id": "7ad7db5b",
   "metadata": {},
   "outputs": [],
   "source": [
    "title = '1_kalman_filtering_no_missing_values'\n",
    "key = \"Position (m)\"\n",
    "df2 = handle_velocity_model(df, key, smoothing=False)\n",
    "plot_kalman_filter(df, 'position_filtered', 'position_std', title)"
   ]
  },
  {
   "cell_type": "markdown",
   "id": "5f0a9ab8",
   "metadata": {},
   "source": [
    "# Case 2: missing values from 300 to 500"
   ]
  },
  {
   "cell_type": "code",
   "execution_count": null,
   "id": "19780f53",
   "metadata": {},
   "outputs": [],
   "source": [
    "title = '2_kalman_filtering_normal_missing_range'\n",
    "df2 = df.copy(deep=True)\n",
    "df2.loc[300:500, key] = np.nan\n",
    "df2 = handle_velocity_model(df2, key, smoothing=False)\n",
    "plot_kalman_filter(df2, 'position_filtered', 'position_std', title)"
   ]
  },
  {
   "cell_type": "markdown",
   "id": "dcf517f6",
   "metadata": {},
   "source": [
    "# Case 3: missing values from 300 to 800"
   ]
  },
  {
   "cell_type": "code",
   "execution_count": null,
   "id": "9f5cc251",
   "metadata": {},
   "outputs": [],
   "source": [
    "title = '3_kalman_filtering_big_missing_range'\n",
    "df2 = df.copy(deep=True)\n",
    "df2.loc[300:800, key] = np.nan\n",
    "df2 = handle_velocity_model(df2, key, smoothing=False)\n",
    "plot_kalman_filter(df2, 'position_filtered', 'position_std', title)"
   ]
  },
  {
   "cell_type": "markdown",
   "id": "67f75959",
   "metadata": {},
   "source": [
    "# Case 4: missing values from 200 to 400 + 600 to 750"
   ]
  },
  {
   "cell_type": "code",
   "execution_count": null,
   "id": "cd048bf1",
   "metadata": {},
   "outputs": [],
   "source": [
    "title = '4_kalman_filtering_two_missing_ranges'\n",
    "df2 = df.copy(deep=True)\n",
    "df2.loc[200:400, key] = np.nan\n",
    "df2.loc[600:750, key] = np.nan\n",
    "df2 = handle_velocity_model(df2, key, smoothing=False)\n",
    "plot_kalman_filter(df2, 'position_filtered', 'position_std', title)"
   ]
  },
  {
   "cell_type": "markdown",
   "id": "2e207597",
   "metadata": {},
   "source": [
    "# Case 5: missing values from 200 to 400 + 600 to 750 + smoothing"
   ]
  },
  {
   "cell_type": "code",
   "execution_count": null,
   "id": "e226b25a",
   "metadata": {},
   "outputs": [],
   "source": [
    "title = '5_kalman_smoohting_two_missing_ranges'\n",
    "df2 = df.copy(deep=True)\n",
    "df2.loc[200:400, key] = np.nan\n",
    "df2.loc[600:750, key] = np.nan\n",
    "df2 = handle_velocity_model(df2, key, smoothing=True)\n",
    "plot_kalman_filter(df2, 'position_filtered', 'position_std', title)"
   ]
  },
  {
   "cell_type": "markdown",
   "id": "85d26664",
   "metadata": {},
   "source": [
    "# Case 6: missing values from 300 to 800 + smoothing"
   ]
  },
  {
   "cell_type": "code",
   "execution_count": null,
   "id": "1c0315f3",
   "metadata": {},
   "outputs": [],
   "source": [
    "title = '6_kalman_smoohting_big_missing_range'\n",
    "df2 = df.copy(deep=True)\n",
    "df2.loc[200:700, key] = np.nan\n",
    "df2 = handle_velocity_model(df2, key, smoothing=True)\n",
    "plot_kalman_filter(df2, 'position_filtered', 'position_std', title)"
   ]
  },
  {
   "cell_type": "code",
   "execution_count": null,
   "id": "e3e36891",
   "metadata": {},
   "outputs": [],
   "source": []
  }
 ],
 "metadata": {
  "kernelspec": {
   "display_name": "Python 3 (Spyder)",
   "language": "python3",
   "name": "python3"
  },
  "language_info": {
   "codemirror_mode": {
    "name": "ipython",
    "version": 3
   },
   "file_extension": ".py",
   "mimetype": "text/x-python",
   "name": "python",
   "nbconvert_exporter": "python",
   "pygments_lexer": "ipython3",
   "version": "3.8.11"
  }
 },
 "nbformat": 4,
 "nbformat_minor": 5
}
